{
 "cells": [
  {
   "cell_type": "code",
   "execution_count": 1,
   "metadata": {},
   "outputs": [],
   "source": [
    "import sys, os\n",
    "sys.path.append(os.pardir)\n",
    "\n",
    "import numpy as np\n",
    "import matplotlib.pyplot as plt\n",
    "from dataset.mnist import load_mnist\n",
    "from dnn import MultiLayerNet\n",
    "#from dnn_extend import MultiLayerNet"
   ]
  },
  {
   "cell_type": "code",
   "execution_count": 2,
   "metadata": {},
   "outputs": [],
   "source": [
    "# 데이터 읽기\n",
    "(x_train, t_train), (x_test, t_test) = load_mnist(normalize=True, one_hot_label=True)"
   ]
  },
  {
   "cell_type": "code",
   "execution_count": 3,
   "metadata": {},
   "outputs": [],
   "source": [
    "hidden_list = [50,50] # hidden layer 개수 설정\n",
    "network = MultiLayerNet(input_size=784, hidden_size_list = hidden_list, output_size=10)\n",
    "\n",
    "#hyper-parameter 설정\n",
    "iters_num = 10000\n",
    "batch_size = 100\n",
    "learning_rate = 0.1\n",
    "\n",
    "# loss list 설정\n",
    "train_loss_list = []\n",
    "train_acc_list = []\n",
    "test_acc_list = []\n",
    "\n",
    "train_size = x_train.shape[0]\n",
    "iter_per_epoch = max(train_size / batch_size, 1)"
   ]
  },
  {
   "cell_type": "code",
   "execution_count": 4,
   "metadata": {},
   "outputs": [
    {
     "name": "stdout",
     "output_type": "stream",
     "text": [
      "accuracy after iteration 0 : train accuracy = 0.1565,  test accuracy = 0.1614\n",
      "accuracy after iteration 600 : train accuracy = 0.9238,  test accuracy = 0.9236\n",
      "accuracy after iteration 1200 : train accuracy = 0.9409,  test accuracy = 0.9391\n",
      "accuracy after iteration 1800 : train accuracy = 0.9498,  test accuracy = 0.9496\n",
      "accuracy after iteration 2400 : train accuracy = 0.9566,  test accuracy = 0.9538\n",
      "accuracy after iteration 3000 : train accuracy = 0.9601,  test accuracy = 0.9552\n",
      "accuracy after iteration 3600 : train accuracy = 0.9635,  test accuracy = 0.9581\n",
      "accuracy after iteration 4200 : train accuracy = 0.9692,  test accuracy = 0.9625\n",
      "accuracy after iteration 4800 : train accuracy = 0.9689,  test accuracy = 0.9615\n",
      "accuracy after iteration 5400 : train accuracy = 0.9702,  test accuracy = 0.9629\n",
      "accuracy after iteration 6000 : train accuracy = 0.9744,  test accuracy = 0.9667\n",
      "accuracy after iteration 6600 : train accuracy = 0.9769,  test accuracy = 0.9681\n",
      "accuracy after iteration 7200 : train accuracy = 0.9741,  test accuracy = 0.9659\n",
      "accuracy after iteration 7800 : train accuracy = 0.9778,  test accuracy = 0.9691\n",
      "accuracy after iteration 8400 : train accuracy = 0.9779,  test accuracy = 0.9680\n",
      "accuracy after iteration 9000 : train accuracy = 0.9794,  test accuracy = 0.9681\n",
      "accuracy after iteration 9600 : train accuracy = 0.9813,  test accuracy = 0.9707\n"
     ]
    }
   ],
   "source": [
    "for i in range(iters_num):\n",
    "    batch_mask = np.random.choice(train_size, batch_size)\n",
    "    x_batch = x_train[batch_mask]\n",
    "    t_batch = t_train[batch_mask]\n",
    "    \n",
    "    # 기울기 계산\n",
    "    #grad = network.numerical_gradient(x_batch, t_batch) # 수치 미분 방식\n",
    "    grad = network.gradient(x_batch, t_batch) # 오차역전파법 방식(훨씬 빠르다)\n",
    "    \n",
    "    # 파라미터 갱신\n",
    "    for key in ('W1', 'b1', 'W2', 'b2'):\n",
    "        network.params[key] -= learning_rate * grad[key]\n",
    "    \n",
    "    #손실함수 계산\n",
    "    loss = network.loss(x_batch, t_batch)\n",
    "    train_loss_list.append(loss)\n",
    "    \n",
    "    #epoch당 train, test 정학도 계산 및 출력\n",
    "    if i % iter_per_epoch == 0:\n",
    "        train_acc = network.accuracy(x_train, t_train)\n",
    "        test_acc = network.accuracy(x_test, t_test)\n",
    "        train_acc_list.append(train_acc)\n",
    "        test_acc_list.append(test_acc)\n",
    "        print(\"accuracy after iteration {0:} : train accuracy = {1:.4f},  test accuracy = {2:.4f}\".format(i,train_acc, test_acc)) \n",
    "        \n",
    "     "
   ]
  },
  {
   "cell_type": "code",
   "execution_count": 5,
   "metadata": {},
   "outputs": [
    {
     "data": {
      "image/png": "[encoded data removed]",
      "text/plain": [
       "<Figure size 432x288 with 1 Axes>"
      ]
     },
     "metadata": {
      "needs_background": "light"
     },
     "output_type": "display_data"
    }
   ],
   "source": [
    "plt.plot(train_acc_list)\n",
    "plt.plot(test_acc_list)\n",
    "plt.title('MultiLayerNet model accuracy')\n",
    "plt.ylabel('accuracy')\n",
    "plt.xlabel('epoch')\n",
    "plt.legend(['train', 'test'], loc='upper left')\n",
    "plt.show()"
   ]
  },
  {
   "cell_type": "code",
   "execution_count": null,
   "metadata": {},
   "outputs": [],
   "source": []
  }
 ],
 "metadata": {
  "kernelspec": {
   "display_name": "Python 3",
   "language": "python",
   "name": "python3"
  },
  "language_info": {
   "codemirror_mode": {
    "name": "ipython",
    "version": 3
   },
   "file_extension": ".py",
   "mimetype": "text/x-python",
   "name": "python",
   "nbconvert_exporter": "python",
   "pygments_lexer": "ipython3",
   "version": "3.8.3"
  }
 },
 "nbformat": 4,
 "nbformat_minor": 4
}
