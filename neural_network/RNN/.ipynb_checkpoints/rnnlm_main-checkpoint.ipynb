{
 "cells": [
  {
   "cell_type": "code",
   "execution_count": 2,
   "metadata": {},
   "outputs": [],
   "source": [
    "# coding: utf-8\n",
    "import sys\n",
    "sys.path.append('..')\n",
    "import matplotlib.pyplot as plt\n",
    "import numpy as np\n",
    "from rnn_common.optimizer import SGD\n",
    "from dataset import ptb\n",
    "from rnnlm import RnnLanguageModel\n"
   ]
  },
  {
   "cell_type": "code",
   "execution_count": 3,
   "metadata": {},
   "outputs": [],
   "source": [
    "# 하이퍼파라미터 설정\n",
    "batch_size = 10\n",
    "wordvec_size = 100\n",
    "hidden_size = 100 # RNN의 은닉 상태 벡터의 원소 수\n",
    "time_size = 5     # Truncated BPTT가 한 번에 펼치는 시간 크기\n",
    "lr = 0.1\n",
    "max_epoch = 100"
   ]
  },
  {
   "cell_type": "code",
   "execution_count": 4,
   "metadata": {},
   "outputs": [
    {
     "name": "stdout",
     "output_type": "stream",
     "text": [
      "말뭉치 크기: 1000, 어휘 수: 418\n"
     ]
    }
   ],
   "source": [
    "# 학습 데이터 읽기(전체 중 1000개만)\n",
    "corpus, word_to_id, id_to_word = ptb.load_data('train')\n",
    "corpus_size = 1000\n",
    "corpus = corpus[:corpus_size]\n",
    "vocab_size = int(max(corpus) + 1)\n",
    "\n",
    "xs = corpus[:-1]  # 입력\n",
    "ts = corpus[1:]   # 출력(정답 레이블)\n",
    "data_size = len(xs)\n",
    "print('말뭉치 크기: %d, 어휘 수: %d' % (corpus_size, vocab_size))\n",
    "\n"
   ]
  },
  {
   "cell_type": "code",
   "execution_count": 5,
   "metadata": {},
   "outputs": [],
   "source": [
    "# 학습 시 사용하는 변수\n",
    "max_iters = data_size // (batch_size * time_size)\n",
    "time_idx = 0\n",
    "total_loss = 0\n",
    "loss_count = 0\n",
    "ppl_list = []"
   ]
  },
  {
   "cell_type": "code",
   "execution_count": 6,
   "metadata": {},
   "outputs": [],
   "source": [
    "# 모델 생성\n",
    "model = SimpleRnnlm(vocab_size, wordvec_size, hidden_size)\n",
    "optimizer = SGD(lr)\n",
    "\n",
    "# 미니배치의 각 샘플의 읽기 시작 위치를 계산\n",
    "jump = (corpus_size - 1) // batch_size\n",
    "offsets = [i * jump for i in range(batch_size)]\n"
   ]
  },
  {
   "cell_type": "code",
   "execution_count": 7,
   "metadata": {},
   "outputs": [
    {
     "name": "stdout",
     "output_type": "stream",
     "text": [
      "| 에폭 1 | 퍼플렉서티 395.98\n",
      "| 에폭 2 | 퍼플렉서티 266.29\n",
      "| 에폭 3 | 퍼플렉서티 227.64\n",
      "| 에폭 4 | 퍼플렉서티 218.81\n",
      "| 에폭 5 | 퍼플렉서티 209.31\n",
      "| 에폭 6 | 퍼플렉서티 203.70\n",
      "| 에폭 7 | 퍼플렉서티 199.75\n",
      "| 에폭 8 | 퍼플렉서티 197.13\n",
      "| 에폭 9 | 퍼플렉서티 192.51\n",
      "| 에폭 10 | 퍼플렉서티 194.38\n",
      "| 에폭 11 | 퍼플렉서티 190.31\n",
      "| 에폭 12 | 퍼플렉서티 193.60\n",
      "| 에폭 13 | 퍼플렉서티 191.11\n",
      "| 에폭 14 | 퍼플렉서티 192.52\n",
      "| 에폭 15 | 퍼플렉서티 191.01\n",
      "| 에폭 16 | 퍼플렉서티 187.14\n",
      "| 에폭 17 | 퍼플렉서티 185.69\n",
      "| 에폭 18 | 퍼플렉서티 182.55\n",
      "| 에폭 19 | 퍼플렉서티 183.67\n",
      "| 에폭 20 | 퍼플렉서티 184.62\n",
      "| 에폭 21 | 퍼플렉서티 182.82\n",
      "| 에폭 22 | 퍼플렉서티 178.89\n",
      "| 에폭 23 | 퍼플렉서티 176.02\n",
      "| 에폭 24 | 퍼플렉서티 177.73\n",
      "| 에폭 25 | 퍼플렉서티 174.10\n",
      "| 에폭 26 | 퍼플렉서티 173.73\n",
      "| 에폭 27 | 퍼플렉서티 169.23\n",
      "| 에폭 28 | 퍼플렉서티 168.15\n",
      "| 에폭 29 | 퍼플렉서티 164.40\n",
      "| 에폭 30 | 퍼플렉서티 157.67\n",
      "| 에폭 31 | 퍼플렉서티 160.49\n",
      "| 에폭 32 | 퍼플렉서티 154.83\n",
      "| 에폭 33 | 퍼플렉서티 155.04\n",
      "| 에폭 34 | 퍼플렉서티 148.59\n",
      "| 에폭 35 | 퍼플렉서티 146.48\n",
      "| 에폭 36 | 퍼플렉서티 141.23\n",
      "| 에폭 37 | 퍼플렉서티 136.99\n",
      "| 에폭 38 | 퍼플렉서티 131.61\n",
      "| 에폭 39 | 퍼플렉서티 126.43\n",
      "| 에폭 40 | 퍼플렉서티 121.36\n",
      "| 에폭 41 | 퍼플렉서티 120.42\n",
      "| 에폭 42 | 퍼플렉서티 114.81\n",
      "| 에폭 43 | 퍼플렉서티 108.61\n",
      "| 에폭 44 | 퍼플렉서티 103.27\n",
      "| 에폭 45 | 퍼플렉서티 101.42\n",
      "| 에폭 46 | 퍼플렉서티 98.20\n",
      "| 에폭 47 | 퍼플렉서티 91.71\n",
      "| 에폭 48 | 퍼플렉서티 86.84\n",
      "| 에폭 49 | 퍼플렉서티 81.83\n",
      "| 에폭 50 | 퍼플렉서티 78.49\n",
      "| 에폭 51 | 퍼플렉서티 74.54\n",
      "| 에폭 52 | 퍼플렉서티 72.98\n",
      "| 에폭 53 | 퍼플렉서티 67.21\n",
      "| 에폭 54 | 퍼플렉서티 65.72\n",
      "| 에폭 55 | 퍼플렉서티 62.98\n",
      "| 에폭 56 | 퍼플렉서티 59.06\n",
      "| 에폭 57 | 퍼플렉서티 55.98\n",
      "| 에폭 58 | 퍼플렉서티 52.20\n",
      "| 에폭 59 | 퍼플렉서티 48.27\n",
      "| 에폭 60 | 퍼플렉서티 45.72\n",
      "| 에폭 61 | 퍼플렉서티 44.55\n",
      "| 에폭 62 | 퍼플렉서티 42.74\n",
      "| 에폭 63 | 퍼플렉서티 39.08\n",
      "| 에폭 64 | 퍼플렉서티 36.52\n",
      "| 에폭 65 | 퍼플렉서티 36.06\n",
      "| 에폭 66 | 퍼플렉서티 33.18\n",
      "| 에폭 67 | 퍼플렉서티 32.13\n",
      "| 에폭 68 | 퍼플렉서티 29.46\n",
      "| 에폭 69 | 퍼플렉서티 27.58\n",
      "| 에폭 70 | 퍼플렉서티 25.99\n",
      "| 에폭 71 | 퍼플렉서티 25.54\n",
      "| 에폭 72 | 퍼플렉서티 23.84\n",
      "| 에폭 73 | 퍼플렉서티 22.18\n",
      "| 에폭 74 | 퍼플렉서티 20.68\n",
      "| 에폭 75 | 퍼플렉서티 19.93\n",
      "| 에폭 76 | 퍼플렉서티 19.14\n",
      "| 에폭 77 | 퍼플렉서티 17.67\n",
      "| 에폭 78 | 퍼플렉서티 16.48\n",
      "| 에폭 79 | 퍼플렉서티 15.35\n",
      "| 에폭 80 | 퍼플렉서티 14.91\n",
      "| 에폭 81 | 퍼플렉서티 14.34\n",
      "| 에폭 82 | 퍼플렉서티 13.47\n",
      "| 에폭 83 | 퍼플렉서티 12.74\n",
      "| 에폭 84 | 퍼플렉서티 11.54\n",
      "| 에폭 85 | 퍼플렉서티 11.13\n",
      "| 에폭 86 | 퍼플렉서티 10.59\n",
      "| 에폭 87 | 퍼플렉서티 10.11\n",
      "| 에폭 88 | 퍼플렉서티 9.99\n",
      "| 에폭 89 | 퍼플렉서티 8.92\n",
      "| 에폭 90 | 퍼플렉서티 8.69\n",
      "| 에폭 91 | 퍼플렉서티 8.02\n",
      "| 에폭 92 | 퍼플렉서티 8.00\n",
      "| 에폭 93 | 퍼플렉서티 7.80\n",
      "| 에폭 94 | 퍼플렉서티 7.10\n",
      "| 에폭 95 | 퍼플렉서티 6.90\n",
      "| 에폭 96 | 퍼플렉서티 6.18\n",
      "| 에폭 97 | 퍼플렉서티 6.14\n",
      "| 에폭 98 | 퍼플렉서티 5.89\n",
      "| 에폭 99 | 퍼플렉서티 5.56\n",
      "| 에폭 100 | 퍼플렉서티 5.44\n"
     ]
    }
   ],
   "source": [
    "for epoch in range(max_epoch):\n",
    "    for iter in range(max_iters):\n",
    "        # 미니배치 취득\n",
    "        batch_x = np.empty((batch_size, time_size), dtype='i')\n",
    "        batch_t = np.empty((batch_size, time_size), dtype='i')\n",
    "        for t in range(time_size):\n",
    "            for i, offset in enumerate(offsets):\n",
    "                batch_x[i, t] = xs[(offset + time_idx) % data_size]\n",
    "                batch_t[i, t] = ts[(offset + time_idx) % data_size]\n",
    "            time_idx += 1\n",
    "\n",
    "        # 기울기를 구하여 매개변수 갱신\n",
    "        loss = model.forward(batch_x, batch_t)\n",
    "        model.backward()\n",
    "        optimizer.update(model.params, model.grads)\n",
    "        total_loss += loss\n",
    "        loss_count += 1\n",
    "\n",
    "    # 에폭마다 퍼플렉서티 평가\n",
    "    ppl = np.exp(total_loss / loss_count)\n",
    "    print('| 에폭 %d | 퍼플렉서티 %.2f'\n",
    "          % (epoch+1, ppl))\n",
    "    ppl_list.append(float(ppl))\n",
    "    total_loss, loss_count = 0, 0\n"
   ]
  },
  {
   "cell_type": "markdown",
   "metadata": {},
   "source": [
    "### 평가지표 퍼플렉서티 설명\n",
    "퍼플렉서티(perplexity, 혼란도)는 확률의 역수를 뜻한다.데이터가 한개일 때, 퍼플렉시티의 값은 분기의수(number of branches)를 의미하는데, 분기 수란 다음에 취할 수 있는 선택사항의 수(구체적으로 말하면, 다음에 출현할 수 있는 단어의 후보 수)를 말한다.  따라서 좋은 모델일수록 퍼블렉서티의 값은 작으며 최솟값은 1.0이다.\n",
    "방금까지의 설명은 입력데이터가 하나일때의 설명이며 다음의 공식들은 입력 데이터가 여러개일 때의 공식이다.\n",
    "\n",
    "$$L = \\frac{-1}{N}\\sum_{n}\\sum_{k}t_{nk}\\log y_{nk}$$\n",
    "$$perplexity = e^{L}$$\n",
    "\n",
    "$N$은 데이터의 총 개수 입니다. $t_{n}$은 원핫 벡터로 나타낸 정답 레이블이며, $t_{nk}$는 n개째 데이터의 k번째 값을 의미한다. 그리고\n",
    "$y_{nk}$는 확률 분포를 나타낸다(신경망에서는 Softmax의 출력) L은 신경망의 손실을 뜻하며, 이 L을 사용해 $e^{L}$를 계산한 값이 곧 퍼플렉서티이다.식이 다소 복잡해보이지만, 데이터가 하나일 때, 설명한 '확률의 역수', '분기의 수', '선태사항의 수'같은 개념이 그대로 적용된다 즉 퍼플렉서티가 작아질 수록, 분기 수가 줄어 좋은 모델이 된다."
   ]
  },
  {
   "cell_type": "code",
   "execution_count": 8,
   "metadata": {},
   "outputs": [
    {
     "data": {
      "image/png": "[encoded data removed]",
      "text/plain": [
       "<Figure size 432x288 with 1 Axes>"
      ]
     },
     "metadata": {
      "needs_background": "light"
     },
     "output_type": "display_data"
    }
   ],
   "source": [
    "# 그래프 그리기\n",
    "x = np.arange(len(ppl_list))\n",
    "plt.plot(x, ppl_list, label='train')\n",
    "plt.xlabel('epochs')\n",
    "plt.ylabel('perplexity')\n",
    "plt.show()\n"
   ]
  },
  {
   "cell_type": "code",
   "execution_count": null,
   "metadata": {},
   "outputs": [],
   "source": []
  },
  {
   "cell_type": "code",
   "execution_count": null,
   "metadata": {},
   "outputs": [],
   "source": []
  },
  {
   "cell_type": "code",
   "execution_count": null,
   "metadata": {},
   "outputs": [],
   "source": []
  }
 ],
 "metadata": {
  "kernelspec": {
   "display_name": "Python 3",
   "language": "python",
   "name": "python3"
  },
  "language_info": {
   "codemirror_mode": {
    "name": "ipython",
    "version": 3
   },
   "file_extension": ".py",
   "mimetype": "text/x-python",
   "name": "python",
   "nbconvert_exporter": "python",
   "pygments_lexer": "ipython3",
   "version": "3.8.3"
  }
 },
 "nbformat": 4,
 "nbformat_minor": 4
}
