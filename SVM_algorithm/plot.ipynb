{
 "cells": [
  {
   "cell_type": "code",
   "execution_count": 1,
   "metadata": {},
   "outputs": [],
   "source": [
    "import matplotlib.pyplot as plt\n",
    "import numpy as np"
   ]
  },
  {
   "cell_type": "code",
   "execution_count": 2,
   "metadata": {},
   "outputs": [],
   "source": [
    "def plot_margin(X1_train, X2_train, clf):\n",
    "    def f(x, w, b, c=0):\n",
    "        # given x, return y such that [x,y] in on the line\n",
    "        # w.x + b = c\n",
    "        return (-w[0] * x - b + c) / w[1]\n",
    "    plt.figure(figsize=(8,6))\n",
    "    plt.plot(X1_train[:,0], X1_train[:,1], \"ro\")\n",
    "    plt.plot(X2_train[:,0], X2_train[:,1], \"bo\")\n",
    "    plt.scatter(clf.sv[:,0], clf.sv[:,1], s=100, c=\"g\")\n",
    "    \n",
    "    axes = plt.gca()\n",
    "    x_vals = np.array(axes.get_xlim())\n",
    "    \n",
    "    # w.x + b = 0\n",
    "    y_vals = f(x_vals, clf.w, clf.b)\n",
    "    plt.plot(x_vals, y_vals, 'k')\n",
    "    \n",
    "    # w.x + b = 1\n",
    "    y_vals = f(x_vals, clf.w, clf.b,1)\n",
    "    plt.plot(x_vals, y_vals, 'k--')\n",
    "\n",
    "    # w.x + b = -1\n",
    "    y_vals = f(x_vals, clf.w, clf.b,-1)\n",
    "    plt.plot(x_vals, y_vals, 'k--')\n",
    "    \n",
    "    plt.axis(\"tight\")\n",
    "    plt.show()\n",
    "    "
   ]
  },
  {
   "cell_type": "code",
   "execution_count": 3,
   "metadata": {},
   "outputs": [],
   "source": [
    "def plot_contour(X1_train, X2_train, clf):\n",
    "    \n",
    "    #dataset plot 하기\n",
    "    plt.figure(figsize=(8,6))\n",
    "    plt.plot(X1_train[:,0], X1_train[:,1], \"ro\")\n",
    "    plt.plot(X2_train[:,0], X2_train[:,1], \"bo\")\n",
    "    plt.scatter(clf.sv[:,0], clf.sv[:,1], s=100, c=\"g\")\n",
    "    \n",
    "    X1, X2 = np.meshgrid(np.linspace(-6,6,50), np.linspace(-6,6,50))\n",
    "    X = np.array([[x1, x2] for x1, x2 in zip(np.ravel(X1), np.ravel(X2))])\n",
    "    Z = clf.project(X).reshape(X1.shape)\n",
    "    \n",
    "    plt.contour(X1, X2, Z, [0.0], colors='k', linewidths=1, origin='lower')\n",
    "    plt.contour(X1, X2, Z + 1, [0.0], colors='grey', linewidths=1, origin='lower')\n",
    "    plt.contour(X1, X2, Z - 1, [0.0], colors='grey', linewidths=1, origin='lower')\n",
    "    \n",
    "    plt.axis(\"tight\")\n",
    "    plt.show()"
   ]
  },
  {
   "cell_type": "code",
   "execution_count": null,
   "metadata": {},
   "outputs": [],
   "source": []
  },
  {
   "cell_type": "code",
   "execution_count": null,
   "metadata": {},
   "outputs": [],
   "source": []
  }
 ],
 "metadata": {
  "kernelspec": {
   "display_name": "Python 3",
   "language": "python",
   "name": "python3"
  },
  "language_info": {
   "codemirror_mode": {
    "name": "ipython",
    "version": 3
   },
   "file_extension": ".py",
   "mimetype": "text/x-python",
   "name": "python",
   "nbconvert_exporter": "python",
   "pygments_lexer": "ipython3",
   "version": "3.7.9"
  }
 },
 "nbformat": 4,
 "nbformat_minor": 4
}
